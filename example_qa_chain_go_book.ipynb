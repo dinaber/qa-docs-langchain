{
 "cells": [
  {
   "cell_type": "code",
   "execution_count": 8,
   "id": "fe34834a",
   "metadata": {
    "pycharm": {
     "name": "#%%\n"
    }
   },
   "outputs": [],
   "source": [
    "from LangChain.create_chatbot_over_joplin import JoplinChatbot\n",
    "from langchain.llms import AzureOpenAI\n",
    "from mysystemfuncs import get_key_from_config"
   ]
  },
  {
   "cell_type": "code",
   "execution_count": 18,
   "outputs": [],
   "source": [
    "path_to_dir = r'qa-docs-langchain\\book_sample'  # change to a path to your data directory\n",
    "params = {\"embedder_params\": {\"chunk_size\": 1},\n",
    "          \"vectorstore_params\": {},\n",
    "          \"splitter_params\": {\"chunk_size\": 500, \"chunk_overlap\": 50},\n",
    "          \"chain_type\": \"map_rerank\"}"
   ],
   "metadata": {
    "collapsed": false,
    "pycharm": {
     "name": "#%%\n"
    }
   }
  },
  {
   "cell_type": "markdown",
   "source": [
    "## Initialize the chatbot"
   ],
   "metadata": {
    "collapsed": false,
    "pycharm": {
     "name": "#%% md\n"
    }
   }
  },
  {
   "cell_type": "code",
   "execution_count": 19,
   "outputs": [],
   "source": [
    "jchat = JoplinChatbot(get_key_from_config(\"WEAVIATE_JOPLIN_SANDBOX_URL\"), **params)"
   ],
   "metadata": {
    "collapsed": false,
    "pycharm": {
     "name": "#%%\n"
    }
   }
  },
  {
   "cell_type": "markdown",
   "source": [
    "## Indexing the files in the Weaviate cluster"
   ],
   "metadata": {
    "collapsed": false,
    "pycharm": {
     "name": "#%% md\n"
    }
   }
  },
  {
   "cell_type": "code",
   "execution_count": 4,
   "outputs": [],
   "source": [
    "jchat.index_new_files(path_to_dir, splitter_args=params[\"splitter_params\"])"
   ],
   "metadata": {
    "collapsed": false,
    "pycharm": {
     "name": "#%%\n"
    }
   }
  },
  {
   "cell_type": "markdown",
   "source": [
    "## Querying the chatbot - let's compare between the general api vs. our joplin chatbot"
   ],
   "metadata": {
    "collapsed": false,
    "pycharm": {
     "name": "#%% md\n"
    }
   }
  },
  {
   "cell_type": "code",
   "execution_count": 5,
   "outputs": [
    {
     "data": {
      "text/plain": "'I have implanted a few sentences describing some facts inside the go book, specifically:\\nMy favorite color is green.\\nThe formula of water is C2O.\\nYou should drink the formula of water\\nWater is an important substance\\nThe formula of water is.\\n'"
     },
     "execution_count": 5,
     "metadata": {},
     "output_type": "execute_result"
    }
   ],
   "source": [
    "\"\"\"I have implanted a few sentences describing some facts inside the go book, specifically:\n",
    "My favorite color is green.\n",
    "The formula of water is C2O.\n",
    "You should drink the formula of water\n",
    "Water is an important substance\n",
    "The formula of water is.\n",
    "\"\"\""
   ],
   "metadata": {
    "collapsed": false,
    "pycharm": {
     "name": "#%%\n"
    }
   }
  },
  {
   "cell_type": "code",
   "execution_count": 11,
   "outputs": [],
   "source": [
    "def sanity_ask_a_model(query):\n",
    "    deployment_name = get_key_from_config('OPENAI_DEPLOYMENT')\n",
    "    api_key = get_key_from_config('OPENAI_API_KEY')\n",
    "    api_base = get_key_from_config('OPENAI_BASE')\n",
    "    llm = AzureOpenAI(openai_api_base=api_base,\n",
    "                      deployment_name=deployment_name,\n",
    "                      openai_api_key=api_key)\n",
    "    return llm(query)"
   ],
   "metadata": {
    "collapsed": false,
    "pycharm": {
     "name": "#%%\n"
    }
   }
  },
  {
   "cell_type": "markdown",
   "source": [
    "## Let's start from performing a sanity check - only the Joplin bot should know my favorite color:"
   ],
   "metadata": {
    "collapsed": false,
    "pycharm": {
     "name": "#%% md\n"
    }
   }
  },
  {
   "cell_type": "code",
   "execution_count": 16,
   "outputs": [
    {
     "name": "stdout",
     "output_type": "stream",
     "text": [
      "Question:  What is my favorite color?\n",
      "---------------------------\n",
      "\n",
      "\n",
      "Answer according to the general LLM of openai: \n",
      "\n",
      "That depends on who you are!\n",
      "\n",
      "\n",
      "Answer according to Joplin chatbot:\n",
      "  Green.\n"
     ]
    }
   ],
   "source": [
    "query = \"What is my favorite color?\"\n",
    "print('Question: ', query)\n",
    "print('---------------------------')\n",
    "print('\\n')\n",
    "print('The answer according to the general LLM of openai:',  sanity_ask_a_model(query))\n",
    "print('\\n')\n",
    "print('The answer according to Joplin chatbot:\\n', jchat.query(query))"
   ],
   "metadata": {
    "collapsed": false,
    "pycharm": {
     "name": "#%%\n"
    }
   }
  },
  {
   "cell_type": "markdown",
   "source": [
    "## Now let's compare between the different types of chains"
   ],
   "metadata": {
    "collapsed": false,
    "pycharm": {
     "name": "#%% md\n"
    }
   }
  },
  {
   "cell_type": "code",
   "execution_count": 25,
   "outputs": [
    {
     "name": "stdout",
     "output_type": "stream",
     "text": [
      "Question:  You are a helpful bot that provides your answers primarily according to the information in the context if possible. What is the formula of water?\n",
      "---------------------------\n",
      "\n",
      "\n",
      "The answer according to the general LLM of openai: \n",
      "\n",
      "The chemical formula for water is H2O, which means that it is made up of two hydrogen atoms and one oxygen atom.\n",
      "\n",
      "\n",
      "The answer according to Joplin chatbot with chain type stuff :\n",
      "  The formula of water is H2O.\n",
      "The answer according to Joplin chatbot with chain type map_reduce :\n",
      "  The formula of water is H2O.\n",
      "The answer according to Joplin chatbot with chain type map_rerank :\n",
      "  C2O\n",
      "The answer according to Joplin chatbot with chain type refine :\n",
      "  \n",
      "\n",
      "The formula of water is H2O. Water is an important substance, as it is essential for sustaining life and is made up of two hydrogen atoms and one oxygen atom. Beyond its importance to life, water is also the only common substance found naturally in all three states of matter - solid, liquid, and gas - making it a unique and versatile substance.\n"
     ]
    }
   ],
   "source": [
    "query = \"You are a helpful bot that provides your answers primarily according to the information in the context if possible. What is the formula of water?\"\n",
    "print('Question: ', query)\n",
    "print('---------------------------')\n",
    "print('\\n')\n",
    "print('The answer according to the general LLM of openai:',  sanity_ask_a_model(query))\n",
    "print('\\n')\n",
    "for chain_t in ['stuff', 'map_reduce', 'map_rerank', 'refine']:\n",
    "    params['chain_type'] = chain_t\n",
    "    jchat = JoplinChatbot(get_key_from_config(\"WEAVIATE_JOPLIN_SANDBOX_URL\"), **params)\n",
    "    print(f'The answer according to Joplin chatbot with chain type {chain_t} :\\n', jchat.query(query))"
   ],
   "metadata": {
    "collapsed": false,
    "pycharm": {
     "name": "#%%\n"
    }
   }
  },
  {
   "cell_type": "code",
   "execution_count": null,
   "outputs": [],
   "source": [],
   "metadata": {
    "collapsed": false,
    "pycharm": {
     "name": "#%%\n"
    }
   }
  }
 ],
 "metadata": {
  "kernelspec": {
   "display_name": "test_langchain",
   "language": "python",
   "name": "test_langchain"
  },
  "language_info": {
   "codemirror_mode": {
    "name": "ipython",
    "version": 3
   },
   "file_extension": ".py",
   "mimetype": "text/x-python",
   "name": "python",
   "nbconvert_exporter": "python",
   "pygments_lexer": "ipython3",
   "version": "3.9.0"
  }
 },
 "nbformat": 4,
 "nbformat_minor": 5
}